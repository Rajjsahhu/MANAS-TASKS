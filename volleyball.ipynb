{
 "cells": [
  {
   "cell_type": "code",
   "execution_count": 3,
   "id": "96c8d728-ddc9-42ed-939d-90fb6a56e469",
   "metadata": {},
   "outputs": [],
   "source": [
    "\"\"\"\"import cv2 as cv\n",
    "import numpy as np"
   ]
  },
  {
   "cell_type": "code",
   "execution_count": 4,
   "id": "8ec09d0d-f07e-4fb2-96f1-c5463bc34e74",
   "metadata": {},
   "outputs": [],
   "source": [
    "\"\"\"\"cap = cv.VideoCapture(r\"C:\\Users\\18110\\Downloads\\volleyball_match.mp4\")\n",
    "\n",
    "ret, frame1 = cap.read()\n",
    "ret, frame2 = cap.read()\n",
    "\n",
    "while True:\n",
    "    diff = cv.absdiff(frame1 , frame2)\n",
    "    gray = cv.cvtColor(diff , cv.COLOR_BGR2GRAY)\n",
    "    blur = cv.GaussianBlur(gray , (5,5) , 0)##\n",
    "    _, thresh = cv.threshold(blur , 20 , 255, cv.THRESH_BINARY)\n",
    "    dilated = cv.dilate(thresh, None, iterations = 3)##\n",
    "    contours, _ = cv.findContours(dilated, cv.RETR_TREE, cv.CHAIN_APPROX_SIMPLE)\n",
    "\n",
    "    hsv = cv.cvtColor(diff , cv.COLOR_BGR2HSV)\n",
    "\n",
    "   # lower_color = np.array([15 , 170 , 170])\n",
    "    #upper_color = np.array([25 , 255 , 255])\n",
    "    #mask = cv.inRange(hsv , lower_color , upper_color)\n",
    "    #kernal = np.ones((5,5) , np.uint8)\n",
    "\n",
    "    \n",
    "    #mask = cv.morphologyEx(mask , cv.MORPH_OPEN , kernal)\n",
    "\n",
    "    #ball_contours, _ = cv.findContours(mask, cv.RETR_TREE , cv.CHAIN_APPROX_SIMPLE)\n",
    "    \n",
    "    for contour in contours:\n",
    "        (x , y, w, h) = cv.boundingRect(contour)\n",
    "        if cv.contourArea(contour) < 700:\n",
    "            continue\n",
    "        cv.rectangle(frame1, (x , y) , (x+w , y+h) , (0,255,0) , 2)\n",
    "        cv.putText(frame1 , \"Players\", (10,20), cv.FONT_HERSHEY_SIMPLEX , 1, (0,0,255), 3)\n",
    "    #cv.drawContours(frame1, contours, -1, (0,255,0) , 2)\n",
    "\n",
    "    cv.imshow('Video' , frame1)\n",
    "    frame1 = frame2\n",
    "    ret, frame2 = cap.read()\n",
    "\n",
    "    \n",
    "    if cv.waitKey(25)  & 0xFF == ord('q'):\n",
    "        break\n",
    "cap.release()\n",
    "cv.destroyAllWindows()\n"
   ]
  },
  {
   "cell_type": "code",
   "execution_count": 22,
   "id": "ae76a806-0134-4c7a-8a24-1f79ad1b60d4",
   "metadata": {},
   "outputs": [
    {
     "data": {
      "text/plain": [
       "28.999522097452342"
      ]
     },
     "execution_count": 22,
     "metadata": {},
     "output_type": "execute_result"
    }
   ],
   "source": [
    "\"video = cv.VideoCapture(r\"C:\\Users\\18110\\Downloads\\volleyball_match.mp4\")\n",
    "video.get(cv.CAP_PROP_FPS)\n",
    "#print(int(1000/28.99))"
   ]
  },
  {
   "cell_type": "code",
   "execution_count": 4,
   "id": "234333d4-5b81-41d5-8f08-2388a24a4c42",
   "metadata": {},
   "outputs": [
    {
     "name": "stdout",
     "output_type": "stream",
     "text": [
      "HSV at (887,45): [171 255  94]\n",
      "HSV at (760,205): [160  63  97]\n",
      "HSV at (344,177): [174  55 243]\n",
      "HSV at (664,70): [173 189  35]\n",
      "HSV at (1019,173): [168 194 104]\n",
      "HSV at (901,168): [170 205 128]\n",
      "HSV at (771,115): [ 20 158 255]\n",
      "HSV at (847,283): [ 83 100 133]\n",
      "HSV at (692,109): [175 121 131]\n",
      "HSV at (256,481): [  4 198 198]\n",
      "HSV at (920,288): [ 90  98 125]\n",
      "HSV at (978,531): [  0 132 221]\n",
      "HSV at (978,531): [  0 133 224]\n",
      "HSV at (769,690): [ 13 207 200]\n",
      "HSV at (1050,131): [  8 177 127]\n",
      "HSV at (477,129): [ 19 206 224]\n",
      "HSV at (477,129): [ 20 208 222]\n",
      "HSV at (477,129): [ 20 208 222]\n"
     ]
    }
   ],
   "source": []
  },
  {
   "cell_type": "code",
   "execution_count": 1,
   "id": "35da9a07-8689-4d27-8ca1-1cda3ab600e3",
   "metadata": {},
   "outputs": [
    {
     "name": "stderr",
     "output_type": "stream",
     "text": [
      "C:\\Users\\18110\\AppData\\Local\\Temp\\ipykernel_21032\\969197733.py:53: DeprecationWarning: Conversion of an array with ndim > 0 to a scalar is deprecated, and will error in future. Ensure you extract a single element from your array before performing this operation. (Deprecated NumPy 1.25.)\n",
      "  x, y = int(predicted[0]), int(predicted[1])\n"
     ]
    }
   ],
   "source": [
    "import cv2\n",
    "import numpy as np\n",
    "\n",
    "cap = cv2.VideoCapture(\"C:\\\\Users\\\\18110\\\\Downloads\\\\volleyball_match.mp4\")\n",
    "\n",
    "# Background subtractor\n",
    "fgbg = cv2.createBackgroundSubtractorMOG2(history=500, varThreshold=50, detectShadows=True)\n",
    "\n",
    "# Kalman filter\n",
    "kalman = cv2.KalmanFilter(4, 2)\n",
    "kalman.measurementMatrix = np.array([[1, 0, 0, 0], [0, 1, 0, 0]], np.float32)\n",
    "kalman.transitionMatrix = np.array([[1, 0, 1, 0], [0, 1, 0, 1], [0, 0, 1, 0], [0, 0, 0, 1]], np.float32)\n",
    "kalman.processNoiseCov = np.eye(4, dtype=np.float32) * 0.03\n",
    "\n",
    "while True:\n",
    "    ret, frame = cap.read()\n",
    "    if not ret:\n",
    "        break\n",
    "\n",
    "    #background subtraction*\n",
    "    fgmask = fgbg.apply(frame)\n",
    "\n",
    "    hsv = cv2.cvtColor(frame, cv2.COLOR_BGR2HSV)\n",
    "    lower_yellow = np.array([15, 80, 80])  \n",
    "    upper_yellow = np.array([40, 255, 255])\n",
    "    mask = cv2.inRange(hsv, lower_yellow, upper_yellow)\n",
    "\n",
    "    # Mask & yellow detectiob\n",
    "    mask = cv2.bitwise_and(mask, fgmask)\n",
    "\n",
    "    # Find contours\n",
    "    contours, _ = cv2.findContours(mask, cv2.RETR_TREE, cv2.CHAIN_APPROX_SIMPLE)\n",
    "    \n",
    "    best_ball = None\n",
    "    for contour in contours:\n",
    "        # Circular objects \n",
    "        area = cv2.contourArea(contour)\n",
    "        if area > 50:  \n",
    "            (x, y), radius = cv2.minEnclosingCircle(contour)\n",
    "            circularity = (4 * np.pi * area) / (cv2.arcLength(contour, True) ** 2)\n",
    "            if 0.6 < circularity < 1.2:  \n",
    "                best_ball = (int(x), int(y), int(radius))\n",
    "                break\n",
    "\n",
    "    if best_ball:\n",
    "        x, y, radius = best_ball\n",
    "        measured = np.array([[np.float32(x)], [np.float32(y)]])\n",
    "        kalman.correct(measured)\n",
    "\n",
    "    # Predict ball position\n",
    "    predicted = kalman.predict()\n",
    "    x, y = int(predicted[0]), int(predicted[1])\n",
    "\n",
    "\n",
    "    cv2.circle(frame, (x, y), 10, (0, 0, 255), -1)\n",
    "    cv2.putText(frame, \"Predicted Ball\", (x, y-10), cv2.FONT_HERSHEY_SIMPLEX, 0.5, (0, 0, 255), 2)\n",
    "\n",
    "    cv2.imshow(\"Kalman Tracking\", frame)\n",
    "    cv2.imshow(\"Ball Detection\", mask)\n",
    "\n",
    "    if cv2.waitKey(25) & 0xFF == ord('q'):\n",
    "        break\n",
    "\n",
    "cap.release()\n",
    "cv2.destroyAllWindows()"
   ]
  },
  {
   "cell_type": "code",
   "execution_count": 22,
   "id": "3a5a90f5-b8ef-4700-bc5c-3f26532b4a1d",
   "metadata": {},
   "outputs": [
    {
     "name": "stderr",
     "output_type": "stream",
     "text": [
      "C:\\Users\\18110\\AppData\\Local\\Temp\\ipykernel_16984\\2679043229.py:69: DeprecationWarning: Conversion of an array with ndim > 0 to a scalar is deprecated, and will error in future. Ensure you extract a single element from your array before performing this operation. (Deprecated NumPy 1.25.)\n",
      "  x, y = int(predicted[0]), int(predicted[1])\n"
     ]
    }
   ],
   "source": []
  },
  {
   "cell_type": "code",
   "execution_count": null,
   "id": "9a97ff2f-01a8-4364-b9e4-15e42709aa65",
   "metadata": {},
   "outputs": [],
   "source": []
  }
 ],
 "metadata": {
  "kernelspec": {
   "display_name": "Python 3 (ipykernel)",
   "language": "python",
   "name": "python3"
  },
  "language_info": {
   "codemirror_mode": {
    "name": "ipython",
    "version": 3
   },
   "file_extension": ".py",
   "mimetype": "text/x-python",
   "name": "python",
   "nbconvert_exporter": "python",
   "pygments_lexer": "ipython3",
   "version": "3.13.1"
  }
 },
 "nbformat": 4,
 "nbformat_minor": 5
}
