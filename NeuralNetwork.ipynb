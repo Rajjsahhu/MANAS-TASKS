{
 "cells": [
  {
   "cell_type": "markdown",
   "id": "232e8237-cb7c-48b1-a3ef-b20b629306e1",
   "metadata": {},
   "source": [
    "## Neural Network"
   ]
  },
  {
   "cell_type": "code",
   "execution_count": 3,
   "id": "58bd915f-4991-4978-803c-61097877045b",
   "metadata": {},
   "outputs": [],
   "source": [
    "import pandas as pd\n",
    "import numpy as np\n",
    "import os\n",
    "import cv2\n",
    "import matplotlib.pyplot as plt"
   ]
  },
  {
   "cell_type": "code",
   "execution_count": 113,
   "id": "e0dba1f4-31cf-40e5-8a65-9e2658c4ea79",
   "metadata": {},
   "outputs": [
    {
     "data": {
      "text/plain": [
       "array([[0.        , 0.        , 0.        , ..., 0.00784314, 0.        ,\n",
       "        0.        ],\n",
       "       [0.        , 0.        , 0.        , ..., 0.00784314, 0.        ,\n",
       "        0.        ],\n",
       "       [0.        , 0.        , 0.        , ..., 0.00784314, 0.        ,\n",
       "        0.        ],\n",
       "       ...,\n",
       "       [0.        , 0.        , 0.        , ..., 0.00784314, 0.        ,\n",
       "        0.        ],\n",
       "       [0.        , 0.        , 0.        , ..., 0.00784314, 0.        ,\n",
       "        0.        ],\n",
       "       [0.        , 0.        , 0.        , ..., 0.00784314, 0.        ,\n",
       "        0.        ]], shape=(4000, 784))"
      ]
     },
     "execution_count": 113,
     "metadata": {},
     "output_type": "execute_result"
    }
   ],
   "source": [
    "path = r\"C:\\Users\\18110\\OneDrive\\Desktop\\Train\\Train\"\n",
    "\n",
    "data = []\n",
    "Y = []\n",
    "\n",
    "classes = [\"Jade\" , \"James\" , \"Jane\" , \"Joel\" , \"Jovi\"]\n",
    "label_map = {name: i for i, name in enumerate(classes)}\n",
    "\n",
    "for sub_file_name in classes:\n",
    "    sub_file_path = os.path.join(path , sub_file_name) #getting path subfiles\n",
    "\n",
    "    for img_name in os.listdir(sub_file_path):\n",
    "        img_path = os.path.join(sub_file_path , img_name) #getting path of images in subfiles\n",
    "        \n",
    "        img = cv2.imread(img_path , cv2.IMREAD_UNCHANGED) #getting the image\n",
    "        img = cv2.resize(img , (28,28)) #resizing\n",
    "        img = img/255.0 #normalizing pixel values to 0 and 1 \n",
    "\n",
    "        data.append(img)\n",
    "        Y.append(label_map[sub_file_name])\n",
    "data = np.array(data) #shape is (4000 ,28 ,28)\n",
    "data = data.reshape(data.shape[0] , -1)\n",
    "\n",
    "pixel_columns = [] \n",
    "for i in range(data.shape[1]):\n",
    "    pixel_columns.append(f\"pixel_{i}\")\n",
    "\n",
    "df = pd.DataFrame(data , columns = pixel_columns)\n",
    "df[\"label\"] = Y\n",
    "df.head()\n",
    "data"
   ]
  },
  {
   "cell_type": "code",
   "execution_count": 116,
   "id": "77121429-4be3-4358-95e0-5f8b78494506",
   "metadata": {},
   "outputs": [
    {
     "data": {
      "text/plain": [
       "(784, 4000)"
      ]
     },
     "execution_count": 116,
     "metadata": {},
     "output_type": "execute_result"
    }
   ],
   "source": [
    "m,n = df.shape # m = 4000 , n = 784\n",
    "df = np.array(df)\n",
    "np.random.shuffle(df)\n",
    "df_train = df.T\n",
    "X_train = df_train[0:n-1]\n",
    "Y_train = np.array(Y)\n",
    "Y_train = Y_train.T\n",
    "X_train.shape"
   ]
  },
  {
   "cell_type": "code",
   "execution_count": 133,
   "id": "38574627-f0dc-4e33-94f6-47e32ede4ea8",
   "metadata": {},
   "outputs": [],
   "source": [
    "def initial_params():\n",
    "    W1 = np.random.randn(5 , 784) # for first hidden layer\n",
    "    b1 = np.random.randn(5 , 1)\n",
    "    W2 = np.random.randn(5 , 5) #for second hidden layer\n",
    "    b2 = np.random.randn(5 , 1) \n",
    "    return  W1 , b1 , W2 , b2\n",
    "\n",
    "def ReLU(Z):\n",
    "    return np.maximum(0 , Z)\n",
    "    \n",
    "def ReLU_der(Z):\n",
    "    return Z > 0\n",
    "\n",
    "def softmax(Z):\n",
    "    return np.exp(Z) / np.sum(np.exp(Z))\n",
    "    \n",
    "def forward_prop(W1 , b1 , W2 , b2 , X):\n",
    "    Z1 = W1.dot(X) + b1\n",
    "    A1 = ReLU(Z1)\n",
    "    Z2 = W2.dot(A1) + b2\n",
    "    A2 = softmax(Z2)\n",
    "    return Z1 , A1 , Z2 , A2\n",
    "\n",
    "def one_hot(Y):\n",
    "    one_hot_Y = np.zeros((Y.size , Y.max() + 1))\n",
    "    one_hot_Y[np.arange(Y.size) , Y] = 1\n",
    "    one_hot_Y = one_hot_Y.T\n",
    "    return one_hot_Y\n",
    "\n",
    "def backward_prop(Z1, A1, Z2, A2, W2, X, Y):\n",
    "    one_hot_Y = one_hot(Y)\n",
    "    dZ2 = A2 - one_hot_Y\n",
    "    dW2 = (1/m) * dZ2.dot(A1.T)\n",
    "    db2 = (1/m) * np.sum(dZ2 , 1)\n",
    "    dZ1 = W2.T.dot(dZ2) * ReLU_der(dZ2)\n",
    "    dW1 = (1/m) * dZ1.dot(X.T)\n",
    "    db1 = (1/m) * np.sum(dZ1 , 1)\n",
    "    return dW1 , db1 , dW2 , db2\n",
    "    \n",
    "def update_params(W1 , b1 , W2 , b2 , dW1 , db1 , dW2 , db2 , alpha):\n",
    "    W1 = W1 - alpha * dW1\n",
    "    b1 = b1 - alpha * np.reshape(db1 , (5,1))\n",
    "    W2 = W2 - alpha * dW2\n",
    "    b2 = b2 - alpha * np.reshape(db2 , (5,1))\n",
    "    return W1 , b1 , W2 , b2\n",
    "\n",
    "def get_predictions(A2):\n",
    "    return np.argmax(A2 , 0)\n",
    "\n",
    "def get_accuracy(predictions , Y):\n",
    "    Y_labels = np.argmax(Y , axis = 0)\n",
    "    print(predictions , Y)\n",
    "    return np.sum(predictions == Y) / Y.size\n",
    "\n",
    "def gradient_des(X ,Y , iterations , alpha):\n",
    "    W1 , b1 , W2 , b2 = initial_params()\n",
    "    for i in range(iterations):\n",
    "        Z1 , A1 , Z2 , A2 = forward_prop(W1 , b1 , W2 , b2 , X)\n",
    "        dW1 , db1 , dW2 , db2 = backward_prop(Z1 , A1 , Z2 , A2 , W2, X, Y)\n",
    "        W1 , b1 , W2 , b2 = update_params(W1 , b1 , W2 , b2 , dW1 , db1 , dW2 , db2 , alpha)\n",
    "        if i % 10 == 0:\n",
    "            print(\"Iteration: \", i)\n",
    "            print(\"Accuracy: \", get_accuracy(get_predictions(A2), Y))\n",
    "        return W1 , b1 , W2 , b2\n",
    "        "
   ]
  },
  {
   "cell_type": "code",
   "execution_count": 134,
   "id": "b8b339bf-7b08-421b-8161-24a17661f1de",
   "metadata": {},
   "outputs": [
    {
     "name": "stdout",
     "output_type": "stream",
     "text": [
      "Iteration:  0\n",
      "[2 2 2 ... 2 2 2] [0 0 0 ... 4 4 4]\n",
      "Accuracy:  0.203\n"
     ]
    }
   ],
   "source": [
    "W1 , b1 , W2 , b2 = gradient_des(X_train , Y_train , 500 , 0.001)"
   ]
  },
  {
   "cell_type": "code",
   "execution_count": null,
   "id": "4929201f-abea-4d52-b83a-c581fde66330",
   "metadata": {},
   "outputs": [],
   "source": []
  }
 ],
 "metadata": {
  "kernelspec": {
   "display_name": "Python 3 (ipykernel)",
   "language": "python",
   "name": "python3"
  },
  "language_info": {
   "codemirror_mode": {
    "name": "ipython",
    "version": 3
   },
   "file_extension": ".py",
   "mimetype": "text/x-python",
   "name": "python",
   "nbconvert_exporter": "python",
   "pygments_lexer": "ipython3",
   "version": "3.13.1"
  }
 },
 "nbformat": 4,
 "nbformat_minor": 5
}
